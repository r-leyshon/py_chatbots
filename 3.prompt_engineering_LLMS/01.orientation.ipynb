{
 "cells": [
  {
   "attachments": {},
   "cell_type": "markdown",
   "metadata": {},
   "source": [
    "# Intro to Prompt Engineering with LLMs\n",
    "\n",
    "[This course](https://www.deeplearning.ai/short-courses/chatgpt-prompt-engineering-for-developers/) is produced by the ubiquitous Andrew Ng & OpenAI Engineer Isa Fulford.\n",
    "\n",
    "The course starts with a distinction in the functionality between 2 types of LLM:\n",
    "\n",
    "**Base LLM**: Goos at predicting the next predicted word, so can exhibit autocomplete\n",
    "behaviour. \n",
    "\n",
    "**Instruction Tuned LLM**: A base LLM trained to respond to instructions such as \n",
    "questions. This often involves **RLHF** - reinforcement learning with human feedback. \n",
    "\n",
    "The LLM output should be:\n",
    "\n",
    "**H**elpful, **H**onest & **H**armless\n",
    "\n",
    "## Prompt Engineering\n",
    "\n",
    "To follow along, you'll need:\n",
    "* to pip install `openai` - this is in the requirements.txt.\n",
    "* to generate an api key from the [openai website](https://platform.openai.com/account/api-keys).\n"
   ]
  },
  {
   "cell_type": "code",
   "execution_count": 1,
   "metadata": {},
   "outputs": [],
   "source": [
    "import toml\n",
    "import os\n",
    "from pyprojroot import here"
   ]
  },
  {
   "cell_type": "code",
   "execution_count": 3,
   "metadata": {},
   "outputs": [],
   "source": [
    "CONFIG = toml.load(os.path.join(here(), \".ignore_me\", \"secrets.toml\"))\n",
    "PROMPT_ENGINEER = CONFIG[\"openai\"][\"PROMPT_ENGINEER\"]\n"
   ]
  },
  {
   "cell_type": "code",
   "execution_count": null,
   "metadata": {},
   "outputs": [],
   "source": []
  }
 ],
 "metadata": {
  "kernelspec": {
   "display_name": "py-chatbots",
   "language": "python",
   "name": "python3"
  },
  "language_info": {
   "codemirror_mode": {
    "name": "ipython",
    "version": 3
   },
   "file_extension": ".py",
   "mimetype": "text/x-python",
   "name": "python",
   "nbconvert_exporter": "python",
   "pygments_lexer": "ipython3",
   "version": "3.9.7"
  },
  "orig_nbformat": 4
 },
 "nbformat": 4,
 "nbformat_minor": 2
}
