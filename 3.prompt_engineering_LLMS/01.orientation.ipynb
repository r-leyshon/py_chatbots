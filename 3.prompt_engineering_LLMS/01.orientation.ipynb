{
 "cells": [
  {
   "attachments": {},
   "cell_type": "markdown",
   "metadata": {},
   "source": [
    "# Intro to Prompt Engineering with LLMs\n",
    "\n",
    "This course is produced by the ubiquitous Andrew Ng & OpenAI Engineer Isa Fulford.\n",
    "\n",
    "The course starts with a distinction in the functionality between 2 types of LLM:\n",
    "\n",
    "**Base LLM**: Goos at predicting the next predicted word, so can exhibit autocomplete\n",
    "behaviour. \n",
    "\n",
    "**Instruction Tuned LLM**: A base LLM trained to respond to instructions such as \n",
    "questions. This often involves **RLHF** - reinforcement learning with human feedback. \n",
    "\n",
    "The LLM output should be:\n",
    "\n",
    "**H**elpful, **H**onest & **H**armless\n",
    "\n",
    "## Prompt Engineering\n",
    "\n",
    "To follow along, you'll need:\n",
    "* to pip install `openai` - this is in the requirements.txt.\n",
    "* to generate an api key from the [openai website](https://platform.openai.com/account/api-keys).\n"
   ]
  }
 ],
 "metadata": {
  "language_info": {
   "name": "python"
  },
  "orig_nbformat": 4
 },
 "nbformat": 4,
 "nbformat_minor": 2
}
