{
 "cells": [
  {
   "cell_type": "markdown",
   "metadata": {},
   "source": [
    "# Build a Basic Bot"
   ]
  },
  {
   "cell_type": "code",
   "execution_count": 39,
   "metadata": {},
   "outputs": [],
   "source": [
    "import time\n",
    "import random"
   ]
  },
  {
   "cell_type": "code",
   "execution_count": 40,
   "metadata": {},
   "outputs": [
    {
     "data": {
      "text/plain": [
       "'Heya back at ya!'"
      ]
     },
     "execution_count": 40,
     "metadata": {},
     "output_type": "execute_result"
    }
   ],
   "source": [
    "def answer(user_input):\n",
    "    \"\"\"Take the user's input and respond in kind.\"\"\"\n",
    "    resp = f\"{user_input} back at ya!\"\n",
    "    time.sleep(0.5)\n",
    "    return resp\n",
    "answer(\"Heya\")"
   ]
  },
  {
   "cell_type": "code",
   "execution_count": 41,
   "metadata": {},
   "outputs": [
    {
     "name": "stdout",
     "output_type": "stream",
     "text": [
      "USER: Yoyoyo!\n"
     ]
    },
    {
     "data": {
      "text/plain": [
       "'BOT: Yoyoyo! back at ya!'"
      ]
     },
     "execution_count": 41,
     "metadata": {},
     "output_type": "execute_result"
    }
   ],
   "source": [
    "def user_speaks(user_input, user_format=\"USER:\", bot_format=\"BOT:\"):\n",
    "    \"\"\"Passes the user's input to response handler.\"\"\"\n",
    "    print(f\"{user_format} {user_input}\")\n",
    "    resp = answer(user_input)\n",
    "    return f\"{bot_format} {resp}\"\n",
    "\n",
    "user_speaks(\"Yoyoyo!\")\n"
   ]
  },
  {
   "cell_type": "markdown",
   "metadata": {},
   "source": [
    "## Basic Chat\n",
    "\n",
    "Introduces some stock responses for exact question matches. Adds in some limited variation.\n",
    "\n",
    "### Stock Answers"
   ]
  },
  {
   "cell_type": "code",
   "execution_count": 42,
   "metadata": {},
   "outputs": [],
   "source": [
    "food = \"ice cream\"\n",
    "weather = \"overcast\"\n",
    "series = \"The Rings of Power\"\n",
    "stock_qs = {\n",
    "    \"what's your favourite food?\": f\"I really like {food}.\",\n",
    "    \"how's the weather today?\": f\"It's looking {weather} right now.\",\n",
    "    \"what are you currently watching?\": f\"{series}, it's really great!\"\n",
    "\n",
    "}"
   ]
  },
  {
   "cell_type": "code",
   "execution_count": 43,
   "metadata": {},
   "outputs": [],
   "source": [
    "def stock_answer(user_input, user_format=\"USER:\", bot_format=\"BOT:\"):\n",
    "    \"\"\"Take the user's input, check for stock responses, respond in kind\n",
    "    if no matches found.\"\"\"\n",
    "    if user_input.lower() in stock_qs.keys():\n",
    "        time.sleep(0.5)\n",
    "        resp = stock_qs[user_input]\n",
    "    else:\n",
    "        resp = answer(user_input)\n",
    "    return resp\n"
   ]
  },
  {
   "cell_type": "code",
   "execution_count": 44,
   "metadata": {},
   "outputs": [],
   "source": [
    "def user_speaks(user_input, user_format=\"USER:\", bot_format=\"BOT:\"):\n",
    "    \"\"\"Passes the user's input to response handler.\"\"\"\n",
    "    print(f\"{user_format} {user_input}\")\n",
    "    resp = stock_answer(user_input)\n",
    "    return f\"{bot_format} {resp}\""
   ]
  },
  {
   "cell_type": "code",
   "execution_count": 45,
   "metadata": {},
   "outputs": [
    {
     "name": "stdout",
     "output_type": "stream",
     "text": [
      "USER: what are you currently watching?\n"
     ]
    },
    {
     "data": {
      "text/plain": [
       "\"BOT: The Rings of Power, it's really great!\""
      ]
     },
     "execution_count": 45,
     "metadata": {},
     "output_type": "execute_result"
    }
   ],
   "source": [
    "user_speaks(\"what are you currently watching?\")"
   ]
  },
  {
   "cell_type": "code",
   "execution_count": 46,
   "metadata": {},
   "outputs": [
    {
     "name": "stdout",
     "output_type": "stream",
     "text": [
      "USER: That's rubbish!\n"
     ]
    },
    {
     "data": {
      "text/plain": [
       "\"BOT: That's rubbish! back at ya!\""
      ]
     },
     "execution_count": 46,
     "metadata": {},
     "output_type": "execute_result"
    }
   ],
   "source": [
    "user_speaks(\"That's rubbish!\")"
   ]
  },
  {
   "cell_type": "markdown",
   "metadata": {},
   "source": [
    "### Variation"
   ]
  },
  {
   "cell_type": "code",
   "execution_count": 47,
   "metadata": {},
   "outputs": [],
   "source": [
    "stock_qs = {\n",
    "    \"what's your favourite food?\": [\n",
    "        f\"I really like {food}.\",\n",
    "        f\"{food} is my favourite.\",\n",
    "        f\"I'm addicted to {food}.\"\n",
    "        ],\n",
    "    \"how's the weather today?\": [\n",
    "        f\"It's looking {weather} right now.\",\n",
    "        f\"Today it's mainly {weather}.\"\n",
    "        ],\n",
    "    \"what are you currently watching?\": [\n",
    "        f\"{series}, it's really great!\",\n",
    "        f\"I just can't get enough of {series} right now.\",\n",
    "        f\"Way too much {series}.\"\n",
    "        ]\n",
    "\n",
    "}"
   ]
  },
  {
   "cell_type": "code",
   "execution_count": 48,
   "metadata": {},
   "outputs": [],
   "source": [
    "def stock_answer(user_input, user_format=\"USER:\", bot_format=\"BOT:\"):\n",
    "    \"\"\"Take the user's input, check for stock responses, respond in kind\n",
    "    if no matches found.\"\"\"\n",
    "    if user_input.lower() in stock_qs.keys():\n",
    "        time.sleep(0.5)\n",
    "        resp = random.choice(stock_qs[user_input])\n",
    "    else:\n",
    "        resp = answer(user_input)\n",
    "    return resp"
   ]
  },
  {
   "cell_type": "code",
   "execution_count": 51,
   "metadata": {},
   "outputs": [
    {
     "name": "stdout",
     "output_type": "stream",
     "text": [
      "USER: what are you currently watching?\n",
      "BOT: Way too much The Rings of Power.\n",
      "USER: what are you currently watching?\n",
      "BOT: Way too much The Rings of Power.\n",
      "USER: what are you currently watching?\n",
      "BOT: The Rings of Power, it's really great!\n"
     ]
    }
   ],
   "source": [
    "print(user_speaks(\"what are you currently watching?\"))\n",
    "print(user_speaks(\"what are you currently watching?\"))\n",
    "print(user_speaks(\"what are you currently watching?\"))\n"
   ]
  },
  {
   "cell_type": "markdown",
   "metadata": {},
   "source": [
    "## Asking Qs"
   ]
  },
  {
   "cell_type": "code",
   "execution_count": 59,
   "metadata": {},
   "outputs": [],
   "source": [
    "is_question = {\n",
    "    True: [\n",
    "        \"Dunno!\",\n",
    "        \"Ummm...\",\n",
    "        \"Don't have a scooby!\"\n",
    "    ],\n",
    "    False: [\n",
    "        \"How are you today :) ?\",\n",
    "        \"Did you remember to feed the dogs?\",\n",
    "        \"Where did you go on hols?\"\n",
    "    ]\n",
    "}"
   ]
  },
  {
   "cell_type": "code",
   "execution_count": 57,
   "metadata": {},
   "outputs": [],
   "source": [
    "def stock_answer(user_input, user_format=\"USER:\", bot_format=\"BOT:\"):\n",
    "    \"\"\"Take the user's input, check for stock responses, respond in kind\n",
    "    if no matches found.\"\"\"\n",
    "    if user_input.lower() in stock_qs.keys():\n",
    "        time.sleep(0.5)\n",
    "        resp = random.choice(stock_qs[user_input])\n",
    "    else:\n",
    "        # Replace the stock answer with the q check\n",
    "        resp = random.choice(is_question[user_input.endswith(\"?\")])\n",
    "    return resp"
   ]
  },
  {
   "cell_type": "code",
   "execution_count": 61,
   "metadata": {},
   "outputs": [
    {
     "name": "stdout",
     "output_type": "stream",
     "text": [
      "USER: what are you currently watching?\n",
      "BOT: The Rings of Power, it's really great!\n",
      "USER: How are you feeling?\n",
      "BOT: Ummm...\n",
      "USER: How are you feeling?\n",
      "BOT: Dunno!\n",
      "USER: Feeling great.\n",
      "BOT: Where did you go on hols?\n",
      "USER: I love cake.\n",
      "BOT: Did you remember to feed the dogs?\n"
     ]
    }
   ],
   "source": [
    "print(user_speaks(\"what are you currently watching?\"))\n",
    "print(user_speaks(\"How are you feeling?\"))\n",
    "print(user_speaks(\"How are you feeling?\"))\n",
    "print(user_speaks(\"Feeling great.\"))\n",
    "print(user_speaks(\"I love cake.\"))"
   ]
  },
  {
   "cell_type": "code",
   "execution_count": null,
   "metadata": {},
   "outputs": [],
   "source": []
  }
 ],
 "metadata": {
  "kernelspec": {
   "display_name": "Python 3.9.7 ('py-chatbots')",
   "language": "python",
   "name": "python3"
  },
  "language_info": {
   "codemirror_mode": {
    "name": "ipython",
    "version": 3
   },
   "file_extension": ".py",
   "mimetype": "text/x-python",
   "name": "python",
   "nbconvert_exporter": "python",
   "pygments_lexer": "ipython3",
   "version": "3.9.7"
  },
  "orig_nbformat": 4,
  "vscode": {
   "interpreter": {
    "hash": "dddb5cd0d12278ac213127e29759590790bdd2e1e3f009e6cf1f79712aa83327"
   }
  }
 },
 "nbformat": 4,
 "nbformat_minor": 2
}
