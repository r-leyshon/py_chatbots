{
 "cells": [
  {
   "cell_type": "markdown",
   "metadata": {},
   "source": [
    "# Build a Basic Bot"
   ]
  },
  {
   "cell_type": "code",
   "execution_count": 1,
   "metadata": {},
   "outputs": [],
   "source": [
    "import time\n",
    "import random"
   ]
  },
  {
   "cell_type": "code",
   "execution_count": 2,
   "metadata": {},
   "outputs": [
    {
     "data": {
      "text/plain": [
       "'Heya back at ya!'"
      ]
     },
     "execution_count": 2,
     "metadata": {},
     "output_type": "execute_result"
    }
   ],
   "source": [
    "def answer(user_input):\n",
    "    \"\"\"Take the user's input and respond in kind.\"\"\"\n",
    "    resp = f\"{user_input} back at ya!\"\n",
    "    time.sleep(0.5)\n",
    "    return resp\n",
    "answer(\"Heya\")"
   ]
  },
  {
   "cell_type": "code",
   "execution_count": 3,
   "metadata": {},
   "outputs": [
    {
     "name": "stdout",
     "output_type": "stream",
     "text": [
      "USER: Yoyoyo!\n"
     ]
    },
    {
     "data": {
      "text/plain": [
       "'BOT: Yoyoyo! back at ya!'"
      ]
     },
     "execution_count": 3,
     "metadata": {},
     "output_type": "execute_result"
    }
   ],
   "source": [
    "def user_speaks(user_input, user_format=\"USER:\", bot_format=\"BOT:\"):\n",
    "    \"\"\"Passes the user's input to response handler.\"\"\"\n",
    "    print(f\"{user_format} {user_input}\")\n",
    "    resp = answer(user_input)\n",
    "    return f\"{bot_format} {resp}\"\n",
    "\n",
    "user_speaks(\"Yoyoyo!\")\n"
   ]
  },
  {
   "cell_type": "markdown",
   "metadata": {},
   "source": [
    "## Basic Chat\n",
    "\n",
    "Introduces some stock responses for exact question matches. Adds in some limited variation.\n",
    "\n",
    "### Stock Answers"
   ]
  },
  {
   "cell_type": "code",
   "execution_count": 4,
   "metadata": {},
   "outputs": [],
   "source": [
    "food = \"ice cream\"\n",
    "weather = \"overcast\"\n",
    "series = \"The Rings of Power\"\n",
    "stock_qs = {\n",
    "    \"what's your favourite food?\": f\"I really like {food}.\",\n",
    "    \"how's the weather today?\": f\"It's looking {weather} right now.\",\n",
    "    \"what are you currently watching?\": f\"{series}, it's really great!\"\n",
    "\n",
    "}"
   ]
  },
  {
   "cell_type": "code",
   "execution_count": 5,
   "metadata": {},
   "outputs": [],
   "source": [
    "def stock_answer(user_input, user_format=\"USER:\", bot_format=\"BOT:\"):\n",
    "    \"\"\"Take the user's input, check for stock responses, respond in kind\n",
    "    if no matches found.\"\"\"\n",
    "    if user_input.lower() in stock_qs.keys():\n",
    "        time.sleep(0.5)\n",
    "        resp = stock_qs[user_input]\n",
    "    else:\n",
    "        resp = answer(user_input)\n",
    "    return resp\n"
   ]
  },
  {
   "cell_type": "code",
   "execution_count": 6,
   "metadata": {},
   "outputs": [],
   "source": [
    "def user_speaks(user_input, user_format=\"USER:\", bot_format=\"BOT:\"):\n",
    "    \"\"\"Passes the user's input to response handler.\"\"\"\n",
    "    print(f\"{user_format} {user_input}\")\n",
    "    resp = stock_answer(user_input)\n",
    "    return f\"{bot_format} {resp}\""
   ]
  },
  {
   "cell_type": "code",
   "execution_count": 7,
   "metadata": {},
   "outputs": [
    {
     "name": "stdout",
     "output_type": "stream",
     "text": [
      "USER: what are you currently watching?\n"
     ]
    },
    {
     "data": {
      "text/plain": [
       "\"BOT: The Rings of Power, it's really great!\""
      ]
     },
     "execution_count": 7,
     "metadata": {},
     "output_type": "execute_result"
    }
   ],
   "source": [
    "user_speaks(\"what are you currently watching?\")"
   ]
  },
  {
   "cell_type": "code",
   "execution_count": 8,
   "metadata": {},
   "outputs": [
    {
     "name": "stdout",
     "output_type": "stream",
     "text": [
      "USER: That's rubbish!\n"
     ]
    },
    {
     "data": {
      "text/plain": [
       "\"BOT: That's rubbish! back at ya!\""
      ]
     },
     "execution_count": 8,
     "metadata": {},
     "output_type": "execute_result"
    }
   ],
   "source": [
    "user_speaks(\"That's rubbish!\")"
   ]
  },
  {
   "cell_type": "markdown",
   "metadata": {},
   "source": [
    "### Variation"
   ]
  },
  {
   "cell_type": "code",
   "execution_count": 9,
   "metadata": {},
   "outputs": [],
   "source": [
    "stock_qs = {\n",
    "    \"what's your favourite food?\": [\n",
    "        f\"I really like {food}.\",\n",
    "        f\"{food} is my favourite.\",\n",
    "        f\"I'm addicted to {food}.\"\n",
    "        ],\n",
    "    \"how's the weather today?\": [\n",
    "        f\"It's looking {weather} right now.\",\n",
    "        f\"Today it's mainly {weather}.\"\n",
    "        ],\n",
    "    \"what are you currently watching?\": [\n",
    "        f\"{series}, it's really great!\",\n",
    "        f\"I just can't get enough of {series} right now.\",\n",
    "        f\"Way too much {series}.\"\n",
    "        ]\n",
    "\n",
    "}"
   ]
  },
  {
   "cell_type": "code",
   "execution_count": 10,
   "metadata": {},
   "outputs": [],
   "source": [
    "def stock_answer(user_input, user_format=\"USER:\", bot_format=\"BOT:\"):\n",
    "    \"\"\"Take the user's input, check for stock responses, respond in kind\n",
    "    if no matches found.\"\"\"\n",
    "    if user_input.lower() in stock_qs.keys():\n",
    "        time.sleep(0.5)\n",
    "        resp = random.choice(stock_qs[user_input])\n",
    "    else:\n",
    "        resp = answer(user_input)\n",
    "    return resp"
   ]
  },
  {
   "cell_type": "code",
   "execution_count": 11,
   "metadata": {},
   "outputs": [
    {
     "name": "stdout",
     "output_type": "stream",
     "text": [
      "USER: what are you currently watching?\n",
      "BOT: The Rings of Power, it's really great!\n",
      "USER: what are you currently watching?\n",
      "BOT: The Rings of Power, it's really great!\n",
      "USER: what are you currently watching?\n",
      "BOT: The Rings of Power, it's really great!\n"
     ]
    }
   ],
   "source": [
    "print(user_speaks(\"what are you currently watching?\"))\n",
    "print(user_speaks(\"what are you currently watching?\"))\n",
    "print(user_speaks(\"what are you currently watching?\"))\n"
   ]
  },
  {
   "cell_type": "markdown",
   "metadata": {},
   "source": [
    "## Asking Qs"
   ]
  },
  {
   "cell_type": "code",
   "execution_count": 12,
   "metadata": {},
   "outputs": [],
   "source": [
    "is_question = {\n",
    "    True: [\n",
    "        \"Dunno!\",\n",
    "        \"Ummm...\",\n",
    "        \"Don't have a scooby!\"\n",
    "    ],\n",
    "    False: [\n",
    "        \"How are you today :) ?\",\n",
    "        \"Did you remember to feed the dogs?\",\n",
    "        \"Where did you go on hols?\"\n",
    "    ]\n",
    "}"
   ]
  },
  {
   "cell_type": "code",
   "execution_count": 13,
   "metadata": {},
   "outputs": [],
   "source": [
    "def stock_answer(user_input, user_format=\"USER:\", bot_format=\"BOT:\"):\n",
    "    \"\"\"Take the user's input, check for stock responses, respond in kind\n",
    "    if no matches found.\"\"\"\n",
    "    if user_input.lower() in stock_qs.keys():\n",
    "        time.sleep(0.5)\n",
    "        resp = random.choice(stock_qs[user_input])\n",
    "    else:\n",
    "        # Replace the stock answer with the q check\n",
    "        resp = random.choice(is_question[user_input.endswith(\"?\")])\n",
    "    return resp"
   ]
  },
  {
   "cell_type": "code",
   "execution_count": 14,
   "metadata": {},
   "outputs": [
    {
     "name": "stdout",
     "output_type": "stream",
     "text": [
      "USER: what are you currently watching?\n",
      "BOT: I just can't get enough of The Rings of Power right now.\n",
      "USER: How are you feeling?\n",
      "BOT: Don't have a scooby!\n",
      "USER: How are you feeling?\n",
      "BOT: Dunno!\n",
      "USER: I'm feeling great thanks.\n",
      "BOT: Did you remember to feed the dogs?\n",
      "USER: I love cake.\n",
      "BOT: How are you today :) ?\n"
     ]
    }
   ],
   "source": [
    "print(user_speaks(\"what are you currently watching?\"))\n",
    "print(user_speaks(\"How are you feeling?\"))\n",
    "print(user_speaks(\"How are you feeling?\"))\n",
    "print(user_speaks(\"I'm feeling great thanks.\"))\n",
    "print(user_speaks(\"I love cake.\"))"
   ]
  },
  {
   "cell_type": "markdown",
   "metadata": {},
   "source": [
    "## Regular Expressions\n",
    "\n",
    "An interesting use of groups to pull out matching clauses when a match has been found, without needing to do the positive lookahead dance... By a group, I mean:\n",
    "\n",
    "pattern = \"foo (.*)\"\n",
    "string = \"foo bar\"\n",
    "By calling the group method on the match object, you can either access the entire matched string (`.group(0)`) or just the clause matched within the group parentheses (`.group(1)` == \"bar\").\n",
    "\n",
    "### Matching questions with responses\n"
   ]
  },
  {
   "cell_type": "code",
   "execution_count": 15,
   "metadata": {},
   "outputs": [],
   "source": [
    "# define a dictionary with some regex keys to use as matches. In this example, f strings are dropped\n",
    "# in favour of format statements with the {0} placeholder\n",
    "\n",
    "q_regexes = {\n",
    "    'Can you (.*)': [\n",
    "        'Sometimes I can {0}',\n",
    "        'I {0} only if the feeling takes me',\n",
    "        \"Nope, never!\"\n",
    "        ],\n",
    " \"Why can't I (.*)\": [\n",
    "    'Is {0} what you really need?',\n",
    "    \"How will {0} change your life?\",\n",
    "    \"Don't worry about {0}\",\n",
    "    \"Don't worry about it!\"\n",
    "    ]\n",
    "  }"
   ]
  },
  {
   "cell_type": "code",
   "execution_count": 16,
   "metadata": {},
   "outputs": [],
   "source": [
    "import re"
   ]
  },
  {
   "cell_type": "code",
   "execution_count": 17,
   "metadata": {},
   "outputs": [],
   "source": [
    "def choose_answer(match_rules, input_q):\n",
    "    \"\"\"Searches the keys in rules for a match, if found,\n",
    "    format a random response with part of the users input_q.\n",
    "    Sneaky eh?\"\"\"\n",
    "    selected_resp = \"default\"\n",
    "\n",
    "    for pat, resps in match_rules.items():\n",
    "        search_res = re.search(pat, input_q)\n",
    "        if search_res is not None:\n",
    "            selected_resp = random.choice(resps)\n",
    "            # This bit handles the formatting of the placeholder {0}\n",
    "            if \"{0}\" in selected_resp:\n",
    "                selected_resp = selected_resp.format(search_res.group(1))\n",
    "    return selected_resp\n"
   ]
  },
  {
   "cell_type": "code",
   "execution_count": 19,
   "metadata": {},
   "outputs": [
    {
     "name": "stdout",
     "output_type": "stream",
     "text": [
      "HIT!\n",
      "Nope, never!\n",
      "HIT!\n",
      "TRICK!\n",
      "I swim only if the feeling takes me\n",
      "HIT!\n",
      "Nope, never!\n",
      "HIT!\n",
      "Don't worry about it!\n",
      "HIT!\n",
      "TRICK!\n",
      "Don't worry about sing?\n",
      "HIT!\n",
      "TRICK!\n",
      "Is sing? what you really need?\n"
     ]
    }
   ],
   "source": [
    "print(choose_answer(q_regexes, \"Can you swim\"))\n",
    "print(choose_answer(q_regexes, \"Can you swim\"))\n",
    "print(choose_answer(q_regexes, \"Can you swim\"))\n",
    "print(choose_answer(q_regexes, \"Why can't I sing?\"))\n",
    "print(choose_answer(q_regexes, \"Why can't I sing?\"))\n",
    "print(choose_answer(q_regexes, \"Why can't I sing?\"))"
   ]
  },
  {
   "cell_type": "code",
   "execution_count": null,
   "metadata": {},
   "outputs": [],
   "source": []
  }
 ],
 "metadata": {
  "kernelspec": {
   "display_name": "Python 3.10.0 ('py_chatbots')",
   "language": "python",
   "name": "python3"
  },
  "language_info": {
   "codemirror_mode": {
    "name": "ipython",
    "version": 3
   },
   "file_extension": ".py",
   "mimetype": "text/x-python",
   "name": "python",
   "nbconvert_exporter": "python",
   "pygments_lexer": "ipython3",
   "version": "3.10.0"
  },
  "orig_nbformat": 4,
  "vscode": {
   "interpreter": {
    "hash": "e29a1e8f465985897f5810f30431eb4ab7f8a14b98c3b4999ee704f6ae2d916a"
   }
  }
 },
 "nbformat": 4,
 "nbformat_minor": 2
}
