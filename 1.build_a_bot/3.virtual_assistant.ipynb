{
 "cells": [
  {
   "cell_type": "markdown",
   "metadata": {},
   "source": [
    "# Virtual Assistant\n",
    "\n",
    "Connecting your chatbot to some source of external data source allows it to be more useful.\n",
    "For example, linking to a rest API or database allows it to send queries.\n",
    "\n",
    "The course discusses good practice in allowing users to amend query parameters. `sqllite3`\n",
    "package is used and the course emphasises the safeguards that the `cursor.execute('SQL string ?', ?params)`\n",
    "function has, preventing the users to send malicious queries that delete the database etc - SQL injection.\n",
    "\n",
    "It is discouraged to use f strings or `.format()` for these same reasons.\n"
   ]
  },
  {
   "cell_type": "code",
   "execution_count": 3,
   "metadata": {},
   "outputs": [],
   "source": [
    "import pandas as pd\n",
    "from pyprojroot import here\n",
    "import os"
   ]
  },
  {
   "cell_type": "markdown",
   "metadata": {},
   "source": [
    "## Create a Database"
   ]
  },
  {
   "cell_type": "code",
   "execution_count": 24,
   "metadata": {},
   "outputs": [],
   "source": [
    "from pathlib import Path\n",
    "import sqlite3 # included in standard library\n",
    "\n",
    "dbPath = os.path.join(here(), \"data\", \"restaurants.db\")\n",
    "try:\n",
    "    Path(dbPath).touch()\n",
    "except:\n",
    "    pass"
   ]
  },
  {
   "cell_type": "code",
   "execution_count": 25,
   "metadata": {},
   "outputs": [],
   "source": [
    "con = sqlite3.connect(dbPath)\n",
    "curs = con.cursor()"
   ]
  },
  {
   "cell_type": "markdown",
   "metadata": {},
   "source": [
    "## Ingest restaurant Data"
   ]
  },
  {
   "cell_type": "code",
   "execution_count": 49,
   "metadata": {},
   "outputs": [
    {
     "data": {
      "text/plain": [
       "('TradingName', 'Town', 'Country', 'CompetentAuthority')"
      ]
     },
     "execution_count": 49,
     "metadata": {},
     "output_type": "execute_result"
    }
   ],
   "source": [
    "rests = pd.read_csv(\n",
    "    \"https://fsa-catalogue2.s3.eu-west-2.amazonaws.com/Approved+establishments+01-09-2022.csv\",\n",
    "    usecols=[\"TradingName\", \"Town\", \"Country\", \"CompetentAuthority\"])\n"
   ]
  },
  {
   "cell_type": "code",
   "execution_count": 45,
   "metadata": {},
   "outputs": [
    {
     "data": {
      "text/plain": [
       "<sqlite3.Cursor at 0x7fa460d70730>"
      ]
     },
     "execution_count": 45,
     "metadata": {},
     "output_type": "execute_result"
    }
   ],
   "source": [
    "# create the sql table ready for write\n",
    "curs.execute(\"\"\"CREATE TABLE IF NOT EXISTS restaurants ('TradingName', 'Town', 'Country', 'CompetentAuthority');\"\"\")"
   ]
  },
  {
   "cell_type": "markdown",
   "metadata": {},
   "source": [
    "## Write CSV to DataBase"
   ]
  },
  {
   "cell_type": "code",
   "execution_count": 50,
   "metadata": {},
   "outputs": [
    {
     "data": {
      "text/plain": [
       "5409"
      ]
     },
     "execution_count": 50,
     "metadata": {},
     "output_type": "execute_result"
    }
   ],
   "source": [
    "# write the csv to the db\n",
    "rests.to_sql('restaurants', con, if_exists='append', index = False)\n",
    "del rests"
   ]
  },
  {
   "cell_type": "code",
   "execution_count": 56,
   "metadata": {},
   "outputs": [
    {
     "data": {
      "text/plain": [
       "[('2 Sisters Food Group Limited T/A 2 Sisters Llangefini',),\n",
       " ('The Food Technology Centre',),\n",
       " ('Preseli Bluestone Meats Limited',),\n",
       " ('2 Sisters Food Group Limited T/A 2 Sisters Sandycroft',),\n",
       " ('Faccenda Foods Limited (T/A Avara Foods)',),\n",
       " ('Dunbia (UK)',),\n",
       " ('Llechwedd Meats',),\n",
       " ('Cig Eryri - Snowdonia Meats Cyf',),\n",
       " (\"Daphne's Welsh Lamb Limited\",),\n",
       " ('Celtica Foods Limited',),\n",
       " ('Bwydlyn',),\n",
       " ('Universal Foods',),\n",
       " ('M K (Wales) Ltd T/A (Maddock Kembery Meats)',),\n",
       " ('Weeks Wholesale Meat Company Ltd',),\n",
       " ('I & B Jones Ltd',),\n",
       " ('William Arthur James (T/A WA James Butchers)',),\n",
       " ('Maelor Foods Limited',),\n",
       " ('Hugh Phillips Gower Butcher',),\n",
       " ('Mid Glamorgan Provisions Ltd',),\n",
       " ('Farmers Pantry Ltd',),\n",
       " ('Williams Lloyd Williams and Son Limited',),\n",
       " ('WJ George (Butchers) Ltd',),\n",
       " ('Huw Evans & Morag Evans (T/A Cig Oen Caron)',),\n",
       " ('Direct Meat Supplies Ltd',),\n",
       " ('Conwy Valley Meats Limited',),\n",
       " ('David Thomas James Thomas Stephen Thomas & Simeon Thomas (T/A D & J Thomas)',),\n",
       " ('Cyril Jones and Stephen Jones T/A Jones Brothers',),\n",
       " ('Gwyn Jones & Robert Jones (T/A Stanley Jones)',),\n",
       " ('Farmers Fresh (Wales) Limited',),\n",
       " (\"Pilgrim's UK Lamb Ltd.\",),\n",
       " ('John B Evans & Robert W Evans (T/A GR Evans & Co)',),\n",
       " ('Capestone Organic Poultry Limited',),\n",
       " ('Usk Vale Poultry Ltd',),\n",
       " ('Kepak Food Group Limited',),\n",
       " ('R G B Webster & Sons Ltd',),\n",
       " ('David T Havard',),\n",
       " ('Welsh Farm Organics & Graig Farm Organics',),\n",
       " ('Dunbia Cross Hands',),\n",
       " ('Cig Calon Cymru',),\n",
       " ('Weddel Swift Distribution Ltd',),\n",
       " ('Bob the Butcher Wales Limited',),\n",
       " ('SR Davis Ltd',),\n",
       " ('Lord Robert Newborough t/a Rhug Organic',),\n",
       " ('Douglas Willis Ltd T/A Croesllan Catering',),\n",
       " (\"Abdul's Poultry Ltd\",),\n",
       " ('Howels Butchers Limited',),\n",
       " ('Euro Foods (UK) Limited',),\n",
       " ('Iman Casing & Foods UK Limited',),\n",
       " ('Euro Farm Wales',),\n",
       " ('Fairfield Meat Company Limited',)]"
      ]
     },
     "execution_count": 56,
     "metadata": {},
     "output_type": "execute_result"
    }
   ],
   "source": [
    "params = (\"Wales\", \"Food Standards Agency\")\n",
    "curs.execute(\"SELECT TradingName FROM restaurants WHERE Country = ? AND CompetentAuthority = ?\", params)\n",
    "curs.fetchall()"
   ]
  },
  {
   "cell_type": "code",
   "execution_count": null,
   "metadata": {},
   "outputs": [],
   "source": []
  }
 ],
 "metadata": {
  "kernelspec": {
   "display_name": "Python 3.9.7 ('py-chatbots')",
   "language": "python",
   "name": "python3"
  },
  "language_info": {
   "codemirror_mode": {
    "name": "ipython",
    "version": 3
   },
   "file_extension": ".py",
   "mimetype": "text/x-python",
   "name": "python",
   "nbconvert_exporter": "python",
   "pygments_lexer": "ipython3",
   "version": "3.9.7"
  },
  "orig_nbformat": 4,
  "vscode": {
   "interpreter": {
    "hash": "dddb5cd0d12278ac213127e29759590790bdd2e1e3f009e6cf1f79712aa83327"
   }
  }
 },
 "nbformat": 4,
 "nbformat_minor": 2
}
