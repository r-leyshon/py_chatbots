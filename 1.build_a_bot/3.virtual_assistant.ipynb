{
 "cells": [
  {
   "cell_type": "markdown",
   "metadata": {},
   "source": [
    "# Virtual Assistant\n",
    "\n",
    "Connecting your chatbot to some source of external data source allows it to be more useful.\n",
    "For example, linking to a rest API or database allows it to send queries.\n",
    "\n",
    "The course discusses good practice in allowing users to amend query parameters. `sqllite3`\n",
    "package is used and the course emphasises the safeguards that the `cursor.execute('SQL string ?', ?params)`\n",
    "function has, preventing the users to send malicious queries that delete the database etc - SQL injection.\n",
    "\n",
    "It is discouraged to use f strings or `.format()` for these same reasons.\n"
   ]
  },
  {
   "cell_type": "code",
   "execution_count": 1,
   "metadata": {},
   "outputs": [],
   "source": [
    "import pandas as pd\n",
    "from pyprojroot import here\n",
    "import os"
   ]
  },
  {
   "cell_type": "markdown",
   "metadata": {},
   "source": [
    "## Create a Database"
   ]
  },
  {
   "cell_type": "code",
   "execution_count": 2,
   "metadata": {},
   "outputs": [],
   "source": [
    "from pathlib import Path\n",
    "import sqlite3 # included in standard library\n",
    "\n",
    "dbPath = os.path.join(here(), \"data\", \"restaurants.db\")\n",
    "try:\n",
    "    Path(dbPath).touch()\n",
    "except:\n",
    "    pass"
   ]
  },
  {
   "cell_type": "code",
   "execution_count": 3,
   "metadata": {},
   "outputs": [],
   "source": [
    "con = sqlite3.connect(dbPath)\n",
    "curs = con.cursor()"
   ]
  },
  {
   "cell_type": "markdown",
   "metadata": {},
   "source": [
    "## Ingest restaurant Data"
   ]
  },
  {
   "cell_type": "code",
   "execution_count": 4,
   "metadata": {},
   "outputs": [],
   "source": [
    "rests = pd.read_csv(\n",
    "    \"https://fsa-catalogue2.s3.eu-west-2.amazonaws.com/Approved+establishments+01-09-2022.csv\",\n",
    "    usecols=[\"TradingName\", \"Town\", \"Country\", \"CompetentAuthority\"])\n"
   ]
  },
  {
   "cell_type": "code",
   "execution_count": 5,
   "metadata": {},
   "outputs": [
    {
     "data": {
      "text/plain": [
       "<sqlite3.Cursor at 0x7ff76031b180>"
      ]
     },
     "execution_count": 5,
     "metadata": {},
     "output_type": "execute_result"
    }
   ],
   "source": [
    "# create the sql table ready for write\n",
    "curs.execute(\"\"\"CREATE TABLE IF NOT EXISTS restaurants ('TradingName', 'Town', 'Country', 'CompetentAuthority');\"\"\")"
   ]
  },
  {
   "cell_type": "markdown",
   "metadata": {},
   "source": [
    "## Write CSV to DataBase"
   ]
  },
  {
   "cell_type": "code",
   "execution_count": 6,
   "metadata": {},
   "outputs": [],
   "source": [
    "# write the csv to the db\n",
    "rests.to_sql('restaurants', con, if_exists='append', index = False)\n",
    "del rests"
   ]
  },
  {
   "cell_type": "code",
   "execution_count": 7,
   "metadata": {},
   "outputs": [
    {
     "data": {
      "text/plain": [
       "[('2 Sisters Food Group Limited T/A 2 Sisters Llangefini',),\n",
       " ('The Food Technology Centre',),\n",
       " ('Preseli Bluestone Meats Limited',),\n",
       " ('2 Sisters Food Group Limited T/A 2 Sisters Sandycroft',),\n",
       " ('Faccenda Foods Limited (T/A Avara Foods)',),\n",
       " ('Dunbia (UK)',),\n",
       " ('Llechwedd Meats',),\n",
       " ('Cig Eryri - Snowdonia Meats Cyf',),\n",
       " (\"Daphne's Welsh Lamb Limited\",),\n",
       " ('Celtica Foods Limited',),\n",
       " ('Bwydlyn',),\n",
       " ('Universal Foods',),\n",
       " ('M K (Wales) Ltd T/A (Maddock Kembery Meats)',),\n",
       " ('Weeks Wholesale Meat Company Ltd',),\n",
       " ('I & B Jones Ltd',),\n",
       " ('William Arthur James (T/A WA James Butchers)',),\n",
       " ('Maelor Foods Limited',),\n",
       " ('Hugh Phillips Gower Butcher',),\n",
       " ('Mid Glamorgan Provisions Ltd',),\n",
       " ('Farmers Pantry Ltd',),\n",
       " ('Williams Lloyd Williams and Son Limited',),\n",
       " ('WJ George (Butchers) Ltd',),\n",
       " ('Huw Evans & Morag Evans (T/A Cig Oen Caron)',),\n",
       " ('Direct Meat Supplies Ltd',),\n",
       " ('Conwy Valley Meats Limited',),\n",
       " ('David Thomas James Thomas Stephen Thomas & Simeon Thomas (T/A D & J Thomas)',),\n",
       " ('Cyril Jones and Stephen Jones T/A Jones Brothers',),\n",
       " ('Gwyn Jones & Robert Jones (T/A Stanley Jones)',),\n",
       " ('Farmers Fresh (Wales) Limited',),\n",
       " (\"Pilgrim's UK Lamb Ltd.\",),\n",
       " ('John B Evans & Robert W Evans (T/A GR Evans & Co)',),\n",
       " ('Capestone Organic Poultry Limited',),\n",
       " ('Usk Vale Poultry Ltd',),\n",
       " ('Kepak Food Group Limited',),\n",
       " ('R G B Webster & Sons Ltd',),\n",
       " ('David T Havard',),\n",
       " ('Welsh Farm Organics & Graig Farm Organics',),\n",
       " ('Dunbia Cross Hands',),\n",
       " ('Cig Calon Cymru',),\n",
       " ('Weddel Swift Distribution Ltd',),\n",
       " ('Bob the Butcher Wales Limited',),\n",
       " ('SR Davis Ltd',),\n",
       " ('Lord Robert Newborough t/a Rhug Organic',),\n",
       " ('Douglas Willis Ltd T/A Croesllan Catering',),\n",
       " (\"Abdul's Poultry Ltd\",),\n",
       " ('Howels Butchers Limited',),\n",
       " ('Euro Foods (UK) Limited',),\n",
       " ('Iman Casing & Foods UK Limited',),\n",
       " ('Euro Farm Wales',),\n",
       " ('Fairfield Meat Company Limited',),\n",
       " ('2 Sisters Food Group Limited T/A 2 Sisters Llangefini',),\n",
       " ('The Food Technology Centre',),\n",
       " ('Preseli Bluestone Meats Limited',),\n",
       " ('2 Sisters Food Group Limited T/A 2 Sisters Sandycroft',),\n",
       " ('Faccenda Foods Limited (T/A Avara Foods)',),\n",
       " ('Dunbia (UK)',),\n",
       " ('Llechwedd Meats',),\n",
       " ('Cig Eryri - Snowdonia Meats Cyf',),\n",
       " (\"Daphne's Welsh Lamb Limited\",),\n",
       " ('Celtica Foods Limited',),\n",
       " ('Bwydlyn',),\n",
       " ('Universal Foods',),\n",
       " ('M K (Wales) Ltd T/A (Maddock Kembery Meats)',),\n",
       " ('Weeks Wholesale Meat Company Ltd',),\n",
       " ('I & B Jones Ltd',),\n",
       " ('William Arthur James (T/A WA James Butchers)',),\n",
       " ('Maelor Foods Limited',),\n",
       " ('Hugh Phillips Gower Butcher',),\n",
       " ('Mid Glamorgan Provisions Ltd',),\n",
       " ('Farmers Pantry Ltd',),\n",
       " ('Williams Lloyd Williams and Son Limited',),\n",
       " ('WJ George (Butchers) Ltd',),\n",
       " ('Huw Evans & Morag Evans (T/A Cig Oen Caron)',),\n",
       " ('Direct Meat Supplies Ltd',),\n",
       " ('Conwy Valley Meats Limited',),\n",
       " ('David Thomas James Thomas Stephen Thomas & Simeon Thomas (T/A D & J Thomas)',),\n",
       " ('Cyril Jones and Stephen Jones T/A Jones Brothers',),\n",
       " ('Gwyn Jones & Robert Jones (T/A Stanley Jones)',),\n",
       " ('Farmers Fresh (Wales) Limited',),\n",
       " (\"Pilgrim's UK Lamb Ltd.\",),\n",
       " ('John B Evans & Robert W Evans (T/A GR Evans & Co)',),\n",
       " ('Capestone Organic Poultry Limited',),\n",
       " ('Usk Vale Poultry Ltd',),\n",
       " ('Kepak Food Group Limited',),\n",
       " ('R G B Webster & Sons Ltd',),\n",
       " ('David T Havard',),\n",
       " ('Welsh Farm Organics & Graig Farm Organics',),\n",
       " ('Dunbia Cross Hands',),\n",
       " ('Cig Calon Cymru',),\n",
       " ('Weddel Swift Distribution Ltd',),\n",
       " ('Bob the Butcher Wales Limited',),\n",
       " ('SR Davis Ltd',),\n",
       " ('Lord Robert Newborough t/a Rhug Organic',),\n",
       " ('Douglas Willis Ltd T/A Croesllan Catering',),\n",
       " (\"Abdul's Poultry Ltd\",),\n",
       " ('Howels Butchers Limited',),\n",
       " ('Euro Foods (UK) Limited',),\n",
       " ('Iman Casing & Foods UK Limited',),\n",
       " ('Euro Farm Wales',),\n",
       " ('Fairfield Meat Company Limited',)]"
      ]
     },
     "execution_count": 7,
     "metadata": {},
     "output_type": "execute_result"
    }
   ],
   "source": [
    "params = (\"Wales\", \"Food Standards Agency\")\n",
    "curs.execute(\"SELECT TradingName FROM restaurants WHERE Country = ? AND CompetentAuthority = ?\", params)\n",
    "curs.fetchall()"
   ]
  },
  {
   "cell_type": "markdown",
   "metadata": {},
   "source": [
    "## Functional Approach\n",
    "\n",
    "Define a function that can query the database based on parameters received."
   ]
  },
  {
   "cell_type": "code",
   "execution_count": 75,
   "metadata": {},
   "outputs": [],
   "source": [
    "def find_restaurants(param_dict, db_path):\n",
    "    # Create the base query\n",
    "    baseQuery = 'SELECT * FROM restaurants'\n",
    "    # ensure params exists\n",
    "    if len(param_dict) > 0:\n",
    "        # Add filters for each params value\n",
    "        param_filters = [f\"{k}=?\" for k in param_dict]\n",
    "        filter_query = \" WHERE \" + \" and \".join(param_filters)\n",
    "    else:\n",
    "        raise ValueError(\"params needs an argument.\")\n",
    "    \n",
    "    # assemble the query\n",
    "    query = baseQuery + filter_query\n",
    "\n",
    "    # Create the tuple of values including the SELECT target first\n",
    "    t = tuple(param_dict.values())\n",
    "    # check db is valid\n",
    "    if os.path.exists(db_path):\n",
    "        # Open db connection\n",
    "        conn = sqlite3.connect(db_path)\n",
    "        # allow printing of queries for debugging\n",
    "        conn.set_trace_callback(\"print\")\n",
    "        # Create cursor\n",
    "        c = conn.cursor()\n",
    "        # Execute query\n",
    "        print(query)\n",
    "        print(t)\n",
    "        c.execute(query, t)\n",
    "        return c.fetchall()\n",
    "    else:\n",
    "        raise FileNotFoundError(f\"{db_path} not found.\")\n",
    "    return None\n",
    "    \n"
   ]
  },
  {
   "cell_type": "code",
   "execution_count": 78,
   "metadata": {},
   "outputs": [
    {
     "name": "stdout",
     "output_type": "stream",
     "text": [
      "SELECT * FROM restaurants WHERE Country=? and CompetentAuthority=?\n",
      "('Wales', 'Food Standards Agency')\n"
     ]
    }
   ],
   "source": [
    "results = find_restaurants({\"Country\":\"Wales\", \"CompetentAuthority\":\"Food Standards Agency\"},\n",
    "os.path.join(here(), \"data\", \"restaurants.db\"))"
   ]
  },
  {
   "cell_type": "markdown",
   "metadata": {},
   "source": [
    "### Respond\n",
    "\n",
    "This section has a `rasa_nlu` dependency. An undisclosed interpreter is used to parse\n",
    "messages and return parameter dictionaries to query. Investigating the interpreter\n",
    "object yielded the following:\n",
    "```\n",
    "In [2]: interpreter\n",
    "Out[2]: <rasa_nlu.model.Interpreter at 0x7fcd78e96f28>\n",
    "\n",
    "In [3]: interpreter.context\n",
    "Out[3]: {'spacy_nlp': <spacy.lang.en.English at 0x7fcd35e9b898>}\n",
    "\n",
    "In [8]: interpreter.parse(\"Some message\")\n",
    "Out[8]:\n",
    "{'entities': [{'end': 19,\n",
    "   'entity': 'price',\n",
    "   'extractor': 'ner_crf',\n",
    "   'processors': ['ner_synonyms'],\n",
    "   'start': 10,\n",
    "   'value': 'hi'},\n",
    "  {'end': 38,\n",
    "   'entity': 'area',\n",
    "   'extractor': 'ner_crf',\n",
    "   'start': 33,\n",
    "   'value': 'south'}],\n",
    " 'intent': {'confidence': 0.0, 'name': ''},\n",
    " 'text': 'some message'}\n",
    " ```"
   ]
  },
  {
   "cell_type": "code",
   "execution_count": 84,
   "metadata": {},
   "outputs": [],
   "source": [
    "resps = [\"Catchall: No matches found...\",\n",
    "\"Only 1 result: {}\",\n",
    "\"2 results found: {} or {}.\",\n",
    "\"{} is one option, but there are more\"]"
   ]
  },
  {
   "cell_type": "code",
   "execution_count": 86,
   "metadata": {},
   "outputs": [],
   "source": [
    "rest_names = [r[0] for r in results]\n",
    "# this bit compares the number of responses to the max number in your resp list, use it\n",
    "# to select the appropriate response\n",
    "index = min(len(results),3) "
   ]
  },
  {
   "cell_type": "code",
   "execution_count": 87,
   "metadata": {},
   "outputs": [
    {
     "data": {
      "text/plain": [
       "'2 Sisters Food Group Limited T/A 2 Sisters Llangefini is one option, but there are more'"
      ]
     },
     "execution_count": 87,
     "metadata": {},
     "output_type": "execute_result"
    }
   ],
   "source": [
    "# splat the results into the selected format string, return this result\n",
    "resps[index].format(*rest_names)"
   ]
  },
  {
   "cell_type": "markdown",
   "metadata": {},
   "source": [
    "***\n",
    "\n",
    "## Slot Filling\n",
    "\n",
    "Slot filling is the term used to describe the chatbots memory to user input. If a user\n",
    "needs to keep reiterating requirements in order to return relevant results, your bot has\n",
    "the memory of a goldfish - this would be painful to have to interact with. Eg - \n",
    "\n",
    "> USER: Hi, is there a restaurant in Oz that serves vegan food?  \n",
    "> BOT: I have lots of restaurants in Oz but none serve vegan food.  \n",
    "> USER: How about a meal in Kansas instead?  \n",
    "> <p style=\"color:red;\">BOT: There's the Kansas karnivore steak house.</p> \n",
    "\n",
    "With a bit of incremental slot filling, your bot can use a dictionary o record entities \n",
    "or intents and respond with this instead:\n",
    "\n",
    "> <p style=\"color:green;\">BOT: How about Dot's Veggilicious CafeBar?</p>\n",
    "\n"
   ]
  },
  {
   "cell_type": "code",
   "execution_count": null,
   "metadata": {},
   "outputs": [],
   "source": []
  }
 ],
 "metadata": {
  "kernelspec": {
   "display_name": "Python 3.9.7 ('py-chatbots')",
   "language": "python",
   "name": "python3"
  },
  "language_info": {
   "codemirror_mode": {
    "name": "ipython",
    "version": 3
   },
   "file_extension": ".py",
   "mimetype": "text/x-python",
   "name": "python",
   "nbconvert_exporter": "python",
   "pygments_lexer": "ipython3",
   "version": "3.9.7"
  },
  "orig_nbformat": 4,
  "vscode": {
   "interpreter": {
    "hash": "dddb5cd0d12278ac213127e29759590790bdd2e1e3f009e6cf1f79712aa83327"
   }
  }
 },
 "nbformat": 4,
 "nbformat_minor": 2
}
