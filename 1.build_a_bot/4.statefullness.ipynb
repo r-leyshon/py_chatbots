{
 "cells": [
  {
   "cell_type": "markdown",
   "metadata": {},
   "source": [
    "# Statefulness\n",
    "\n",
    "The first bots built within the course are stateless, meaning they have a \n",
    "consistent response to a specific kind of message. \n",
    "\n",
    "**Policies** - The relationship of a user input to an action.\n",
    "\n",
    "Using memory (slot filling) & adding statefulness provides context to\n",
    "the conversation. This can be useful if the user signals for assistance as \n",
    "they get stuck - you can be aware of where they were when you last\n",
    "interacted with them.\n",
    "\n",
    "<p style=\"color:red;\">Warning: rasa_nlu dependency problems means this part\n",
    "of the course is also non-reproducible.</p>\n",
    "\n",
    "Below shows how to add statefulness to a bot, in the context of ordering a\n",
    "meal from Mucky Bs...\n"
   ]
  },
  {
   "cell_type": "code",
   "execution_count": null,
   "metadata": {},
   "outputs": [],
   "source": [
    "# Commonplace to use integers to signify states\n",
    "# Define the initial state\n",
    "START = 0\n",
    "\n",
    "# Define the choice / choosing state\n",
    "CHOOSE_MEAL = 1\n",
    "\n",
    "# Define the state for when the order has been placed\n",
    "PLACED = 2\n",
    "\n",
    "# Set out the policy rules. Use the format dict(tuple:tuple)\n",
    "# The key tuple should be the current state and the intent detected\n",
    "# The value tuple should be the next state - the state to be progressed to\n",
    "# and the message to respond with...\n",
    "policy = {\n",
    "    (START, \"order\"): (CHOOSE_MEAL, \"ok, Crabby Patty or Heart Stopper Deluxe?\"),\n",
    "    (START, \"none\"): (START, \"My apologies, I didn't understand that...\"),\n",
    "    (CHOOSE_MEAL, \"specify_food\"): (PLACED, \"perfect, the meal is on its way!\"),\n",
    "    (CHOOSE_MEAL, \"none\"): (CHOOSE_MEAL, \"Umm... You can choose from Crabby Patties or Heart Stoppers, sir...\"),\n",
    "}\n",
    "\n",
    "# Here define a list of inputs form the user \n",
    "inputs = [\n",
    "    \"I'd like to shave my beard\",\n",
    "    \"oh right, let me get a meal then\",\n",
    "    \"I own a German Shephard (the dog)\",\n",
    "    \"make it a Crabby Patty then\"\n",
    "]\n",
    "\n",
    "# Call send_message() for each message\n",
    "state = START\n",
    "#for message in inputs:    \n",
    "#    state = send_message(policy, state, message)\n",
    "\n",
    "# send_message was abstracted away in the course. It has a rasa dependency."
   ]
  }
 ],
 "metadata": {
  "language_info": {
   "name": "python"
  },
  "orig_nbformat": 4
 },
 "nbformat": 4,
 "nbformat_minor": 2
}
