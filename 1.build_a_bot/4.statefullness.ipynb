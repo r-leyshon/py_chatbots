{
 "cells": [
  {
   "cell_type": "markdown",
   "metadata": {},
   "source": [
    "# Statefulness\n",
    "\n",
    "The first bots built within the course are stateless, meaning they have a \n",
    "consistent response to a specific kind of message. \n",
    "\n",
    "**Policies** - The relationship of a user input to an action.\n",
    "\n",
    "Using memory (slot filling) & adding statefulness provides context to\n",
    "the conversation. This can be useful if the user signals for assistance as \n",
    "they get stuck - you can be aware of where they were when you last\n",
    "interacted with them.\n",
    "\n",
    "<p style=\"color:red;\">Warning: rasa_nlu dependency problems means this part\n",
    "of the course is also non-reproducible.</p>\n",
    "\n",
    "Below shows how to add statefulness to a bot, in the context of ordering a\n",
    "meal from Mucky Bs...\n"
   ]
  },
  {
   "cell_type": "code",
   "execution_count": 1,
   "metadata": {},
   "outputs": [],
   "source": [
    "# Commonplace to use integers to signify states\n",
    "# Define the initial state\n",
    "START = 0\n",
    "\n",
    "# Define the choice / choosing state\n",
    "CHOOSE_MEAL = 1\n",
    "\n",
    "# Define the state for when the order has been placed\n",
    "PLACED = 2\n",
    "\n",
    "# Set out the policy rules. Use the format dict(tuple:tuple)\n",
    "# The key tuple should be the current state and the intent detected\n",
    "# The value tuple should be the next state - the state to be progressed to\n",
    "# and the message to respond with...\n",
    "policy = {\n",
    "    (START, \"order\"): (CHOOSE_MEAL, \"ok, Crabby Patty or Heart Stopper Deluxe?\"),\n",
    "    (START, \"none\"): (START, \"My apologies, I didn't understand that...\"),\n",
    "    (CHOOSE_MEAL, \"specify_food\"): (PLACED, \"perfect, the meal is on its way!\"),\n",
    "    (CHOOSE_MEAL, \"none\"): (CHOOSE_MEAL, \"Umm... You can choose from Crabby Patties or Heart Stoppers, sir...\"),\n",
    "}\n",
    "\n",
    "# Here define a list of inputs form the user \n",
    "inputs = [\n",
    "    \"I'd like to shave my beard\",\n",
    "    \"oh right, let me get a meal then\",\n",
    "    \"I own a German Shephard (the dog)\",\n",
    "    \"make it a Crabby Patty then\"\n",
    "]\n",
    "\n",
    "# Call send_message() for each message\n",
    "state = START\n",
    "#for message in inputs:    \n",
    "#    state = send_message(policy, state, message)\n",
    "\n",
    "# send_message was abstracted away in the course. It has a rasa dependency.\n",
    "\n",
    "# in a future exercise, the policy above is adapted so the values contain\n",
    "# a pending state, when you need to divert the user through an authentication\n",
    "# pattern before rejoining the order flow."
   ]
  },
  {
   "cell_type": "markdown",
   "metadata": {},
   "source": [
    "The interesting behaviour in the above example - the user asks an irrelevant question at\n",
    "the start and the bot in the START state responds with a generic response:  \n",
    "\n",
    "> BOT: \"My apologies, I didn't understand that...\"\n",
    "\n",
    "In the next interaction the user course corrects and makes a statement where the \n",
    "`specify_food` intent was found. Then when the user subsequently asks another irrelevant\n",
    "question about dog ownership, the state of the bot (`CHOOSE_MEAL`) allows it to ask\n",
    "a relevant clarification question:\n",
    "\n",
    "> BOT: \"Umm... You can choose from Crabby Patties or Heart Stoppers, sir...\"\n",
    "\n",
    "### Giving Help\n",
    "\n",
    "It's likely to be a good idea to include a few policy rules for an intent\n",
    "`ask_explanation`.\n",
    "\n",
    "### Rejection\n",
    "\n",
    "By looking for the user intent `deny`, you can ensure your bot doesn't keep\n",
    "making the same suggestion when the user is rejecting it. The approach is \n",
    "to use lists for `previous_suggestions` and `excluded_options`.\n",
    "\n",
    "```\n",
    "if intent == \"deny\":\n",
    "    excluded_options.extend(previous_suggestions)\n",
    "```\n",
    "\n",
    "Then use excluded options to filter out your response:\n",
    "\n",
    "```\n",
    "results = [\n",
    "      r \n",
    "      for r in find_restaurants(params, excluded_options) \n",
    "      if r[0] not in excluded_options\n",
    "  ]\n",
    "```\n",
    "\n",
    "## Pending States\n",
    "\n",
    "The user experience can be improved and complexity of the bot can be\n",
    "reduced by stashing actions in the scope where your respond function is\n",
    "defined. When the user confirms the action, you can execute it. But if the\n",
    "user does not confirm it, you wipe the pending action."
   ]
  },
  {
   "cell_type": "code",
   "execution_count": null,
   "metadata": {},
   "outputs": [],
   "source": [
    "# Define an updated policy\n",
    "def policy(intent):\n",
    "    # Return \"action_pending\" when the user affirms\n",
    "    if intent == \"affirm\":\n",
    "        return \"action_pending\", None\n",
    "    # Return \"OK\" if the user intent is \"deny\"\n",
    "    if intent == \"deny\":\n",
    "        return \"OK\", None\n",
    "    if intent == \"order\":\n",
    "        return \"We're out of Crabby Patties, a Heart Stopper instead?\", \"Great, that's ordered!\"\n",
    "\n",
    "#The order of the returned objects are action and pending action."
   ]
  },
  {
   "cell_type": "markdown",
   "metadata": {},
   "source": []
  }
 ],
 "metadata": {
  "kernelspec": {
   "display_name": "Python 3.9.10 64-bit ('3.9.10')",
   "language": "python",
   "name": "python3"
  },
  "language_info": {
   "codemirror_mode": {
    "name": "ipython",
    "version": 3
   },
   "file_extension": ".py",
   "mimetype": "text/x-python",
   "name": "python",
   "nbconvert_exporter": "python",
   "pygments_lexer": "ipython3",
   "version": "3.9.10"
  },
  "orig_nbformat": 4,
  "vscode": {
   "interpreter": {
    "hash": "674885a22a8f84ae62b69fd36ca440d95622dda91184fb7e02abcde20b0d9e4a"
   }
  }
 },
 "nbformat": 4,
 "nbformat_minor": 2
}
